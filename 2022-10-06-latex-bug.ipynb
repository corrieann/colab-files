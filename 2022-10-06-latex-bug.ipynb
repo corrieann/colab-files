{
  "nbformat": 4,
  "nbformat_minor": 0,
  "metadata": {
    "colab": {
      "provenance": [],
      "collapsed_sections": [],
      "authorship_tag": "ABX9TyMatCE1g2DZnYHwVHrvSc4c",
      "include_colab_link": true
    },
    "kernelspec": {
      "name": "python3",
      "display_name": "Python 3"
    },
    "language_info": {
      "name": "python"
    }
  },
  "cells": [
    {
      "cell_type": "markdown",
      "metadata": {
        "id": "view-in-github",
        "colab_type": "text"
      },
      "source": [
        "<a href=\"https://colab.research.google.com/github/corrieann/colab-files/blob/master/2022-10-06-latex-bug.ipynb\" target=\"_parent\"><img src=\"https://colab.research.google.com/assets/colab-badge.svg\" alt=\"Open In Colab\"/></a>"
      ]
    },
    {
      "cell_type": "code",
      "execution_count": null,
      "metadata": {
        "id": "oYojapgJqlyq"
      },
      "outputs": [],
      "source": []
    },
    {
      "cell_type": "markdown",
      "source": [
        "> This is a block quote\n",
        "> $$\n",
        ">     y = m x + b\n",
        "> $$\n",
        "> with an equation.",
        "",
        "",
        "$$",
        ">     y = m x + b\n",
        "$$"
      ],
      "metadata": {
        "id": "6bFclpoVqmWR"
      }
    }
  ]
}
